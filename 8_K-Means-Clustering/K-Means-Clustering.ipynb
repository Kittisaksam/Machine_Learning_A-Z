{
 "cells": [
  {
   "cell_type": "markdown",
   "metadata": {
    "colab_type": "text",
    "id": "FzpGMqnqE6HA"
   },
   "source": [
    "# K Means Clustering with Python\n",
    "\n",
    "\n",
    "## Method Used\n",
    "\n",
    "K Means Clustering is an unsupervised learning algorithm that tries to cluster data based on their similarity. Unsupervised learning means that there is no outcome to be predicted, and the algorithm just tries to find patterns in the data. In k means clustering, we have the specify the number of clusters we want the data to be grouped into. The algorithm randomly assigns each observation to a cluster, and finds the centroid of each cluster. Then, the algorithm iterates through two steps:\n",
    "Reassign data points to the cluster whose centroid is closest. Calculate new centroid of each cluster. These two steps are repeated till the within cluster variation cannot be reduced any further. The within cluster variation is calculated as the sum of the euclidean distance between the data points and their respective cluster centroids."
   ]
  },
  {
   "cell_type": "markdown",
   "metadata": {
    "colab_type": "text",
    "id": "chQidzHDE6HD"
   },
   "source": [
    "## Import Libraries"
   ]
  },
  {
   "cell_type": "code",
   "execution_count": 1,
   "metadata": {
    "colab": {},
    "colab_type": "code",
    "id": "6n2399cVE6HH"
   },
   "outputs": [],
   "source": [
    "import seaborn as sns\n",
    "import matplotlib.pyplot as plt"
   ]
  },
  {
   "cell_type": "markdown",
   "metadata": {
    "colab_type": "text",
    "id": "_hngIxcqE6HR"
   },
   "source": [
    "## Create some Data"
   ]
  },
  {
   "cell_type": "code",
   "execution_count": 2,
   "metadata": {
    "colab": {},
    "colab_type": "code",
    "id": "b7r3Ppj7E6HT"
   },
   "outputs": [],
   "source": [
    "from sklearn.datasets import make_blobs"
   ]
  },
  {
   "cell_type": "code",
   "execution_count": 3,
   "metadata": {
    "colab": {},
    "colab_type": "code",
    "id": "G98v5uWKE6HY"
   },
   "outputs": [],
   "source": [
    "# Create Data\n",
    "data = make_blobs(n_samples=200, n_features=2, \n",
    "            centers=4, cluster_std=1.8,random_state=101)"
   ]
  },
  {
   "cell_type": "code",
   "execution_count": 4,
   "metadata": {
    "colab": {
     "base_uri": "https://localhost:8080/",
     "height": 102
    },
    "colab_type": "code",
    "executionInfo": {
     "elapsed": 1288,
     "status": "ok",
     "timestamp": 1560672028067,
     "user": {
      "displayName": "Teerapong Panboonyuen",
      "photoUrl": "https://lh6.googleusercontent.com/-iKyx5xtWFk8/AAAAAAAAAAI/AAAAAAAACqY/cdrOGhiN8Pw/s64/photo.jpg",
      "userId": "10952242531985089596"
     },
     "user_tz": -420
    },
    "id": "1JD9oT2dE6He",
    "outputId": "89c9a1b6-8904-4332-ac70-ea1698dfff5c"
   },
   "outputs": [
    {
     "data": {
      "text/plain": [
       "array([[-6.42884095, 10.14111739],\n",
       "       [ 5.86867888,  5.20110356],\n",
       "       [-0.37610937,  3.26427943],\n",
       "       [ 2.16679181,  9.56300522],\n",
       "       [ 5.0950857 ,  7.20752718]])"
      ]
     },
     "execution_count": 4,
     "metadata": {},
     "output_type": "execute_result"
    }
   ],
   "source": [
    "# data\n",
    "data[0][0:5]"
   ]
  },
  {
   "cell_type": "code",
   "execution_count": 5,
   "metadata": {
    "colab": {
     "base_uri": "https://localhost:8080/",
     "height": 34
    },
    "colab_type": "code",
    "executionInfo": {
     "elapsed": 1271,
     "status": "ok",
     "timestamp": 1560672028068,
     "user": {
      "displayName": "Teerapong Panboonyuen",
      "photoUrl": "https://lh6.googleusercontent.com/-iKyx5xtWFk8/AAAAAAAAAAI/AAAAAAAACqY/cdrOGhiN8Pw/s64/photo.jpg",
      "userId": "10952242531985089596"
     },
     "user_tz": -420
    },
    "id": "AeGcCig1E6Hp",
    "outputId": "143fa8ec-1ae8-498c-8a0a-e01f90e5a48a"
   },
   "outputs": [
    {
     "data": {
      "text/plain": [
       "array([3, 2, 0, 2, 2])"
      ]
     },
     "execution_count": 5,
     "metadata": {},
     "output_type": "execute_result"
    }
   ],
   "source": [
    "# actual cluster group\n",
    "data[1][0:5]"
   ]
  },
  {
   "cell_type": "markdown",
   "metadata": {
    "colab_type": "text",
    "id": "4outR6K0E6Hw"
   },
   "source": [
    "# (Optional) Scaler and Inverse Scaler"
   ]
  },
  {
   "cell_type": "code",
   "execution_count": 6,
   "metadata": {
    "colab": {},
    "colab_type": "code",
    "id": "tVpItw74E6Hx"
   },
   "outputs": [],
   "source": [
    "# from sklearn.preprocessing import StandardScaler\n",
    "# scaler = StandardScaler()\n",
    "# scaler.fit(data[0])\n",
    "\n",
    "# trans_data = scaler.transform(data[0])\n",
    "# print(trans_data[0:5,])\n",
    "\n",
    "# org_data = scaler.inverse_transform(trans_data)\n",
    "# print(org_data[0:5,])"
   ]
  },
  {
   "cell_type": "markdown",
   "metadata": {
    "colab_type": "text",
    "id": "cWsTohNFE6H1"
   },
   "source": [
    "## Visualize Data"
   ]
  },
  {
   "cell_type": "code",
   "execution_count": 7,
   "metadata": {
    "colab": {
     "base_uri": "https://localhost:8080/",
     "height": 286
    },
    "colab_type": "code",
    "executionInfo": {
     "elapsed": 1871,
     "status": "ok",
     "timestamp": 1560672028686,
     "user": {
      "displayName": "Teerapong Panboonyuen",
      "photoUrl": "https://lh6.googleusercontent.com/-iKyx5xtWFk8/AAAAAAAAAAI/AAAAAAAACqY/cdrOGhiN8Pw/s64/photo.jpg",
      "userId": "10952242531985089596"
     },
     "user_tz": -420
    },
    "id": "Til9c7eZE6H3",
    "outputId": "a8126ffc-5145-4bdd-ef23-4e284ca2b9ee"
   },
   "outputs": [
    {
     "data": {
      "text/plain": [
       "<matplotlib.collections.PathCollection at 0x15d6d289988>"
      ]
     },
     "execution_count": 7,
     "metadata": {},
     "output_type": "execute_result"
    },
    {
     "data": {
      "image/png": "[encoded data removed]",
      "text/plain": [
       "<Figure size 432x288 with 1 Axes>"
      ]
     },
     "metadata": {
      "needs_background": "light"
     },
     "output_type": "display_data"
    }
   ],
   "source": [
    "plt.scatter(data[0][:,0],data[0][:,1],c=data[1],cmap='rainbow')"
   ]
  },
  {
   "cell_type": "markdown",
   "metadata": {
    "colab_type": "text",
    "id": "nVHu3HpcE6H_"
   },
   "source": [
    "## Creating the Clusters"
   ]
  },
  {
   "cell_type": "code",
   "execution_count": 8,
   "metadata": {
    "colab": {},
    "colab_type": "code",
    "id": "XxkfDMAkE6IB"
   },
   "outputs": [],
   "source": [
    "from sklearn.cluster import KMeans"
   ]
  },
  {
   "cell_type": "code",
   "execution_count": 9,
   "metadata": {
    "colab": {},
    "colab_type": "code",
    "id": "GaQEo7tkE6IF"
   },
   "outputs": [],
   "source": [
    "kmeans = KMeans(n_clusters=4)"
   ]
  },
  {
   "cell_type": "code",
   "execution_count": 10,
   "metadata": {
    "colab": {
     "base_uri": "https://localhost:8080/",
     "height": 68
    },
    "colab_type": "code",
    "executionInfo": {
     "elapsed": 1866,
     "status": "ok",
     "timestamp": 1560672028696,
     "user": {
      "displayName": "Teerapong Panboonyuen",
      "photoUrl": "https://lh6.googleusercontent.com/-iKyx5xtWFk8/AAAAAAAAAAI/AAAAAAAACqY/cdrOGhiN8Pw/s64/photo.jpg",
      "userId": "10952242531985089596"
     },
     "user_tz": -420
    },
    "id": "ED2sJC93E6IJ",
    "outputId": "8560d402-24e3-46c7-d702-8a006c869b7b"
   },
   "outputs": [
    {
     "data": {
      "text/plain": [
       "KMeans(algorithm='auto', copy_x=True, init='k-means++', max_iter=300,\n",
       "       n_clusters=4, n_init=10, n_jobs=None, precompute_distances='auto',\n",
       "       random_state=None, tol=0.0001, verbose=0)"
      ]
     },
     "execution_count": 10,
     "metadata": {},
     "output_type": "execute_result"
    }
   ],
   "source": [
    "kmeans.fit(data[0])"
   ]
  },
  {
   "cell_type": "code",
   "execution_count": 11,
   "metadata": {
    "colab": {
     "base_uri": "https://localhost:8080/",
     "height": 85
    },
    "colab_type": "code",
    "executionInfo": {
     "elapsed": 1853,
     "status": "ok",
     "timestamp": 1560672028697,
     "user": {
      "displayName": "Teerapong Panboonyuen",
      "photoUrl": "https://lh6.googleusercontent.com/-iKyx5xtWFk8/AAAAAAAAAAI/AAAAAAAACqY/cdrOGhiN8Pw/s64/photo.jpg",
      "userId": "10952242531985089596"
     },
     "user_tz": -420
    },
    "id": "b4vzVE16E6IT",
    "outputId": "9ee644bd-4ac8-43d6-efe0-64ffcf3b1cb4"
   },
   "outputs": [
    {
     "data": {
      "text/plain": [
       "array([[-9.46941837, -6.56081545],\n",
       "       [-0.0123077 ,  2.13407664],\n",
       "       [ 3.71749226,  7.01388735],\n",
       "       [-4.13591321,  7.95389851]])"
      ]
     },
     "execution_count": 11,
     "metadata": {},
     "output_type": "execute_result"
    }
   ],
   "source": [
    "kmeans.cluster_centers_"
   ]
  },
  {
   "cell_type": "code",
   "execution_count": 12,
   "metadata": {
    "colab": {
     "base_uri": "https://localhost:8080/",
     "height": 187
    },
    "colab_type": "code",
    "executionInfo": {
     "elapsed": 1842,
     "status": "ok",
     "timestamp": 1560672028698,
     "user": {
      "displayName": "Teerapong Panboonyuen",
      "photoUrl": "https://lh6.googleusercontent.com/-iKyx5xtWFk8/AAAAAAAAAAI/AAAAAAAACqY/cdrOGhiN8Pw/s64/photo.jpg",
      "userId": "10952242531985089596"
     },
     "user_tz": -420
    },
    "id": "XDFEDsVGE6Ii",
    "outputId": "ddbea5e8-5994-4beb-e13e-e0f74a6a617b"
   },
   "outputs": [
    {
     "data": {
      "text/plain": [
       "array([3, 2, 1, 2, 2, 0, 2, 1, 2, 1, 3, 1, 2, 2, 3, 1, 2, 1, 0, 3, 0, 1,\n",
       "       1, 0, 3, 0, 0, 1, 2, 2, 3, 0, 2, 1, 1, 3, 0, 0, 0, 1, 0, 3, 3, 3,\n",
       "       1, 2, 3, 1, 0, 1, 1, 3, 2, 1, 0, 3, 1, 1, 3, 2, 0, 2, 0, 3, 2, 1,\n",
       "       0, 2, 2, 0, 2, 1, 0, 1, 0, 2, 2, 1, 3, 1, 1, 0, 2, 0, 1, 1, 1, 3,\n",
       "       1, 0, 0, 0, 0, 1, 1, 0, 2, 3, 0, 2, 1, 0, 1, 1, 2, 1, 0, 2, 0, 0,\n",
       "       2, 3, 3, 2, 0, 2, 3, 3, 2, 3, 1, 3, 1, 3, 1, 2, 3, 1, 0, 3, 3, 3,\n",
       "       1, 0, 0, 3, 2, 3, 2, 1, 0, 2, 0, 3, 3, 2, 1, 0, 3, 3, 3, 3, 1, 2,\n",
       "       1, 3, 2, 2, 2, 1, 2, 1, 1, 3, 0, 3, 1, 2, 3, 1, 2, 1, 3, 2, 1, 3,\n",
       "       2, 2, 0, 2, 3, 0, 0, 3, 0, 0, 0, 0, 0, 1, 0, 2, 2, 3, 0, 1, 2, 2,\n",
       "       0, 1])"
      ]
     },
     "execution_count": 12,
     "metadata": {},
     "output_type": "execute_result"
    }
   ],
   "source": [
    "kmeans.labels_"
   ]
  },
  {
   "cell_type": "code",
   "execution_count": 13,
   "metadata": {
    "colab": {
     "base_uri": "https://localhost:8080/",
     "height": 187
    },
    "colab_type": "code",
    "executionInfo": {
     "elapsed": 1830,
     "status": "ok",
     "timestamp": 1560672028699,
     "user": {
      "displayName": "Teerapong Panboonyuen",
      "photoUrl": "https://lh6.googleusercontent.com/-iKyx5xtWFk8/AAAAAAAAAAI/AAAAAAAACqY/cdrOGhiN8Pw/s64/photo.jpg",
      "userId": "10952242531985089596"
     },
     "user_tz": -420
    },
    "id": "pTHNGfX_E6Ip",
    "outputId": "fe9efc25-b972-41e7-f15d-722b596fff84"
   },
   "outputs": [
    {
     "data": {
      "text/plain": [
       "array([3, 2, 1, 2, 2, 0, 2, 1, 2, 1, 3, 1, 2, 2, 3, 1, 2, 1, 0, 3, 0, 1,\n",
       "       1, 0, 3, 0, 0, 1, 2, 2, 3, 0, 2, 1, 1, 3, 0, 0, 0, 1, 0, 3, 3, 3,\n",
       "       1, 2, 3, 1, 0, 1, 1, 3, 2, 1, 0, 3, 1, 1, 3, 2, 0, 2, 0, 3, 2, 1,\n",
       "       0, 2, 2, 0, 2, 1, 0, 1, 0, 2, 2, 1, 3, 1, 1, 0, 2, 0, 1, 1, 1, 3,\n",
       "       1, 0, 0, 0, 0, 1, 1, 0, 2, 3, 0, 2, 1, 0, 1, 1, 2, 1, 0, 2, 0, 0,\n",
       "       2, 3, 3, 2, 0, 2, 3, 3, 2, 3, 1, 3, 1, 3, 1, 2, 3, 1, 0, 3, 3, 3,\n",
       "       1, 0, 0, 3, 2, 3, 2, 1, 0, 2, 0, 3, 3, 2, 1, 0, 3, 3, 3, 3, 1, 2,\n",
       "       1, 3, 2, 2, 2, 1, 2, 1, 1, 3, 0, 3, 1, 2, 3, 1, 2, 1, 3, 2, 1, 3,\n",
       "       2, 2, 0, 2, 3, 0, 0, 3, 0, 0, 0, 0, 0, 1, 0, 2, 2, 3, 0, 1, 2, 2,\n",
       "       0, 1])"
      ]
     },
     "execution_count": 13,
     "metadata": {},
     "output_type": "execute_result"
    }
   ],
   "source": [
    "kmeans.predict(data[0])"
   ]
  },
  {
   "cell_type": "code",
   "execution_count": 14,
   "metadata": {
    "colab": {
     "base_uri": "https://localhost:8080/",
     "height": 407
    },
    "colab_type": "code",
    "executionInfo": {
     "elapsed": 2225,
     "status": "ok",
     "timestamp": 1560672029106,
     "user": {
      "displayName": "Teerapong Panboonyuen",
      "photoUrl": "https://lh6.googleusercontent.com/-iKyx5xtWFk8/AAAAAAAAAAI/AAAAAAAACqY/cdrOGhiN8Pw/s64/photo.jpg",
      "userId": "10952242531985089596"
     },
     "user_tz": -420
    },
    "id": "LqBsLoNDE6Ix",
    "outputId": "224382d3-d100-43a1-b37a-756f44a224bb"
   },
   "outputs": [
    {
     "data": {
      "text/plain": [
       "<matplotlib.collections.PathCollection at 0x15d6dbe8048>"
      ]
     },
     "execution_count": 14,
     "metadata": {},
     "output_type": "execute_result"
    },
    {
     "data": {
      "image/png": "[encoded data removed]",
      "text/plain": [
       "<Figure size 720x432 with 2 Axes>"
      ]
     },
     "metadata": {
      "needs_background": "light"
     },
     "output_type": "display_data"
    }
   ],
   "source": [
    "f, (ax1, ax2) = plt.subplots(1, 2, sharey=True,figsize=(10,6))\n",
    "ax1.set_title('K Means')\n",
    "ax1.scatter(data[0][:,0],data[0][:,1],c=kmeans.labels_,cmap='rainbow')\n",
    "ax2.set_title(\"Original\")\n",
    "ax2.scatter(data[0][:,0],data[0][:,1],c=data[1],cmap='rainbow')"
   ]
  },
  {
   "cell_type": "code",
   "execution_count": 15,
   "metadata": {
    "colab": {
     "base_uri": "https://localhost:8080/",
     "height": 295
    },
    "colab_type": "code",
    "executionInfo": {
     "elapsed": 2706,
     "status": "ok",
     "timestamp": 1560672029598,
     "user": {
      "displayName": "Teerapong Panboonyuen",
      "photoUrl": "https://lh6.googleusercontent.com/-iKyx5xtWFk8/AAAAAAAAAAI/AAAAAAAACqY/cdrOGhiN8Pw/s64/photo.jpg",
      "userId": "10952242531985089596"
     },
     "user_tz": -420
    },
    "id": "W6ukdhq0E6I4",
    "outputId": "94efc2b2-e107-432e-f379-b424cf551f4b"
   },
   "outputs": [
    {
     "data": {
      "image/png": "[encoded data removed]",
      "text/plain": [
       "<Figure size 432x288 with 1 Axes>"
      ]
     },
     "metadata": {
      "needs_background": "light"
     },
     "output_type": "display_data"
    }
   ],
   "source": [
    "# elbow method\n",
    "import numpy as np\n",
    "from scipy.spatial.distance import cdist\n",
    "import matplotlib.pyplot as plt\n",
    "\n",
    "K = range(1, 10)\n",
    "meandistortions = []\n",
    "for k in K:\n",
    "    kmeans = KMeans(n_clusters=k)\n",
    "    kmeans.fit(data[0])\n",
    "    meandistortions.append(sum(np.min(cdist(data[0], kmeans.cluster_centers_, 'euclidean'), axis=1)) / data[0].shape[0])\n",
    "\n",
    "plt.plot(K, meandistortions, 'bx-')\n",
    "plt.xlabel('k')\n",
    "plt.ylabel('Average distortion')\n",
    "plt.title('Selecting k with the Elbow Method')\n",
    "plt.show()"
   ]
  },
  {
   "cell_type": "markdown",
   "metadata": {
    "colab_type": "text",
    "id": "G3k6l2spE6I_"
   },
   "source": [
    "You should note, the colors are meaningless in reference between the two plots."
   ]
  },
  {
   "cell_type": "code",
   "execution_count": null,
   "metadata": {
    "colab": {},
    "colab_type": "code",
    "id": "_s566QNFE6JE"
   },
   "outputs": [],
   "source": []
  }
 ],
 "metadata": {
  "colab": {
   "collapsed_sections": [],
   "name": "K-Means-Clustering.ipynb",
   "provenance": [],
   "version": "0.3.2"
  },
  "kernelspec": {
   "display_name": "Python 3",
   "language": "python",
   "name": "python3"
  },
  "language_info": {
   "codemirror_mode": {
    "name": "ipython",
    "version": 3
   },
   "file_extension": ".py",
   "mimetype": "text/x-python",
   "name": "python",
   "nbconvert_exporter": "python",
   "pygments_lexer": "ipython3",
   "version": "3.7.6"
  }
 },
 "nbformat": 4,
 "nbformat_minor": 1
}
